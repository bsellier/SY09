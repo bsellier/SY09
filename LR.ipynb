{
 "cells": [
  {
   "cell_type": "markdown",
   "id": "b50d414a",
   "metadata": {},
   "source": [
    "### Importation / Configuration"
   ]
  },
  {
   "cell_type": "code",
   "execution_count": 1,
   "id": "05b4d7d6",
   "metadata": {},
   "outputs": [],
   "source": [
    "import numpy as np\n",
    "import pandas as pd\n",
    "import seaborn as sns\n",
    "from sklearn.model_selection import train_test_split, GridSearchCV\n",
    "from sklearn.metrics import accuracy_score\n",
    "from sklearn.linear_model import LogisticRegression\n",
    "from utils.confusion_matrix import confusion_matrix"
   ]
  },
  {
   "cell_type": "code",
   "execution_count": 2,
   "id": "4ea89b0a",
   "metadata": {},
   "outputs": [],
   "source": [
    "starbucks = pd.read_csv(\"clean_starbucks.csv\")"
   ]
  },
  {
   "cell_type": "code",
   "execution_count": 3,
   "id": "950e8936",
   "metadata": {},
   "outputs": [],
   "source": [
    "z = starbucks.Category\n",
    "\n",
    "starbucks.drop(columns=[\"Category\", \"size\", \"product_name\"], axis=1, inplace=True)\n"
   ]
  },
  {
   "cell_type": "markdown",
   "id": "9b3cc9cb",
   "metadata": {},
   "source": [
    "### Entrainement et prédiction"
   ]
  },
  {
   "cell_type": "code",
   "execution_count": 4,
   "id": "f173fa8a",
   "metadata": {},
   "outputs": [
    {
     "data": {
      "text/plain": [
       "0.9129287598944591"
      ]
     },
     "execution_count": 4,
     "metadata": {},
     "output_type": "execute_result"
    }
   ],
   "source": [
    "X_train, X_test, z_train, z_test = train_test_split(starbucks, z, test_size=0.33, random_state=40)\n",
    "\n",
    "cls = LogisticRegression(solver=\"newton-cg\")\n",
    "#search = GridSearchCV(cls, scoring=\"accuracy\", cv=10)\n",
    "\n",
    "cls.fit(X_train, z_train)\n",
    "\n",
    "z_pred = cls.predict(X_test)\n",
    "\n",
    "accuracy_score(z_pred, z_test)\n",
    "\n"
   ]
  },
  {
   "cell_type": "markdown",
   "id": "f902999e",
   "metadata": {},
   "source": [
    "### Matrice de confusion"
   ]
  },
  {
   "cell_type": "code",
   "execution_count": 5,
   "id": "553fac1f",
   "metadata": {},
   "outputs": [
    {
     "data": {
      "text/html": [
       "<div>\n",
       "<style scoped>\n",
       "    .dataframe tbody tr th:only-of-type {\n",
       "        vertical-align: middle;\n",
       "    }\n",
       "\n",
       "    .dataframe tbody tr th {\n",
       "        vertical-align: top;\n",
       "    }\n",
       "\n",
       "    .dataframe thead th {\n",
       "        text-align: right;\n",
       "    }\n",
       "</style>\n",
       "<table border=\"1\" class=\"dataframe\">\n",
       "  <thead>\n",
       "    <tr style=\"text-align: right;\">\n",
       "      <th>Prédiction</th>\n",
       "      <th>chocolate</th>\n",
       "      <th>coffee</th>\n",
       "      <th>frappuccino</th>\n",
       "      <th>other</th>\n",
       "      <th>tea</th>\n",
       "    </tr>\n",
       "    <tr>\n",
       "      <th>Réalité</th>\n",
       "      <th></th>\n",
       "      <th></th>\n",
       "      <th></th>\n",
       "      <th></th>\n",
       "      <th></th>\n",
       "    </tr>\n",
       "  </thead>\n",
       "  <tbody>\n",
       "    <tr>\n",
       "      <th>chocolate</th>\n",
       "      <td>100.000000</td>\n",
       "      <td>0.000000</td>\n",
       "      <td>0.000000</td>\n",
       "      <td>0.000000</td>\n",
       "      <td>0.000000</td>\n",
       "    </tr>\n",
       "    <tr>\n",
       "      <th>coffee</th>\n",
       "      <td>0.000000</td>\n",
       "      <td>90.566038</td>\n",
       "      <td>6.289308</td>\n",
       "      <td>0.000000</td>\n",
       "      <td>3.144654</td>\n",
       "    </tr>\n",
       "    <tr>\n",
       "      <th>frappuccino</th>\n",
       "      <td>0.000000</td>\n",
       "      <td>7.476636</td>\n",
       "      <td>91.588785</td>\n",
       "      <td>0.000000</td>\n",
       "      <td>0.934579</td>\n",
       "    </tr>\n",
       "    <tr>\n",
       "      <th>other</th>\n",
       "      <td>15.384615</td>\n",
       "      <td>0.000000</td>\n",
       "      <td>0.000000</td>\n",
       "      <td>61.538462</td>\n",
       "      <td>23.076923</td>\n",
       "    </tr>\n",
       "    <tr>\n",
       "      <th>tea</th>\n",
       "      <td>0.000000</td>\n",
       "      <td>5.405405</td>\n",
       "      <td>0.000000</td>\n",
       "      <td>0.000000</td>\n",
       "      <td>94.594595</td>\n",
       "    </tr>\n",
       "  </tbody>\n",
       "</table>\n",
       "</div>"
      ],
      "text/plain": [
       "Prédiction    chocolate     coffee  frappuccino      other        tea\n",
       "Réalité                                                              \n",
       "chocolate    100.000000   0.000000     0.000000   0.000000   0.000000\n",
       "coffee         0.000000  90.566038     6.289308   0.000000   3.144654\n",
       "frappuccino    0.000000   7.476636    91.588785   0.000000   0.934579\n",
       "other         15.384615   0.000000     0.000000  61.538462  23.076923\n",
       "tea            0.000000   5.405405     0.000000   0.000000  94.594595"
      ]
     },
     "execution_count": 5,
     "metadata": {},
     "output_type": "execute_result"
    }
   ],
   "source": [
    "confusion_df = confusion_matrix(z_test, z_pred)\n",
    "confusion_df"
   ]
  },
  {
   "cell_type": "code",
   "execution_count": 6,
   "id": "927b5413",
   "metadata": {},
   "outputs": [
    {
     "data": {
      "text/plain": [
       "<Axes: xlabel='Prédiction', ylabel='Réalité'>"
      ]
     },
     "execution_count": 6,
     "metadata": {},
     "output_type": "execute_result"
    },
    {
     "data": {
      "image/png": "[encoded data removed]",
      "text/plain": [
       "<Figure size 640x480 with 2 Axes>"
      ]
     },
     "metadata": {},
     "output_type": "display_data"
    }
   ],
   "source": [
    "sns.heatmap(confusion_df)"
   ]
  }
 ],
 "metadata": {
  "kernelspec": {
   "display_name": "Python 3 (ipykernel)",
   "language": "python",
   "name": "python3"
  },
  "language_info": {
   "codemirror_mode": {
    "name": "ipython",
    "version": 3
   },
   "file_extension": ".py",
   "mimetype": "text/x-python",
   "name": "python",
   "nbconvert_exporter": "python",
   "pygments_lexer": "ipython3",
   "version": "3.10.10"
  }
 },
 "nbformat": 4,
 "nbformat_minor": 5
}
