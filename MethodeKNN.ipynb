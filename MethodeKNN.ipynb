{
 "cells": [
  {
   "cell_type": "code",
   "execution_count": 1,
   "id": "cc244a15",
   "metadata": {},
   "outputs": [],
   "source": [
    "import numpy as np\n",
    "import pandas as pd\n",
    "import seaborn as sns"
   ]
  },
  {
   "cell_type": "code",
   "execution_count": 2,
   "id": "4e6e65b9",
   "metadata": {},
   "outputs": [],
   "source": [
    "starbucks = pd.read_csv(\"clean_starbucks.csv\")"
   ]
  },
  {
   "cell_type": "code",
   "execution_count": 3,
   "id": "88e0c3e5",
   "metadata": {},
   "outputs": [
    {
     "data": {
      "text/html": [
       "<div>\n",
       "<style scoped>\n",
       "    .dataframe tbody tr th:only-of-type {\n",
       "        vertical-align: middle;\n",
       "    }\n",
       "\n",
       "    .dataframe tbody tr th {\n",
       "        vertical-align: top;\n",
       "    }\n",
       "\n",
       "    .dataframe thead th {\n",
       "        text-align: right;\n",
       "    }\n",
       "</style>\n",
       "<table border=\"1\" class=\"dataframe\">\n",
       "  <thead>\n",
       "    <tr style=\"text-align: right;\">\n",
       "      <th></th>\n",
       "      <th>product_name</th>\n",
       "      <th>size</th>\n",
       "      <th>milk</th>\n",
       "      <th>whip</th>\n",
       "      <th>serv_size_m_l</th>\n",
       "      <th>calories</th>\n",
       "      <th>total_fat_g</th>\n",
       "      <th>saturated_fat_g</th>\n",
       "      <th>trans_fat_g</th>\n",
       "      <th>cholesterol_mg</th>\n",
       "      <th>sodium_mg</th>\n",
       "      <th>total_carbs_g</th>\n",
       "      <th>fiber_g</th>\n",
       "      <th>sugar_g</th>\n",
       "      <th>caffeine_mg</th>\n",
       "      <th>Category</th>\n",
       "    </tr>\n",
       "  </thead>\n",
       "  <tbody>\n",
       "    <tr>\n",
       "      <th>0</th>\n",
       "      <td>brewed coffee - dark roast</td>\n",
       "      <td>short</td>\n",
       "      <td>0</td>\n",
       "      <td>0</td>\n",
       "      <td>236</td>\n",
       "      <td>3</td>\n",
       "      <td>0.1</td>\n",
       "      <td>0.0</td>\n",
       "      <td>0.0</td>\n",
       "      <td>0</td>\n",
       "      <td>5</td>\n",
       "      <td>0</td>\n",
       "      <td>0</td>\n",
       "      <td>0</td>\n",
       "      <td>130</td>\n",
       "      <td>coffee</td>\n",
       "    </tr>\n",
       "    <tr>\n",
       "      <th>1</th>\n",
       "      <td>brewed coffee - dark roast</td>\n",
       "      <td>tall</td>\n",
       "      <td>0</td>\n",
       "      <td>0</td>\n",
       "      <td>354</td>\n",
       "      <td>4</td>\n",
       "      <td>0.1</td>\n",
       "      <td>0.0</td>\n",
       "      <td>0.0</td>\n",
       "      <td>0</td>\n",
       "      <td>10</td>\n",
       "      <td>0</td>\n",
       "      <td>0</td>\n",
       "      <td>0</td>\n",
       "      <td>193</td>\n",
       "      <td>coffee</td>\n",
       "    </tr>\n",
       "    <tr>\n",
       "      <th>2</th>\n",
       "      <td>brewed coffee - dark roast</td>\n",
       "      <td>grande</td>\n",
       "      <td>0</td>\n",
       "      <td>0</td>\n",
       "      <td>473</td>\n",
       "      <td>5</td>\n",
       "      <td>0.1</td>\n",
       "      <td>0.0</td>\n",
       "      <td>0.0</td>\n",
       "      <td>0</td>\n",
       "      <td>10</td>\n",
       "      <td>0</td>\n",
       "      <td>0</td>\n",
       "      <td>0</td>\n",
       "      <td>260</td>\n",
       "      <td>coffee</td>\n",
       "    </tr>\n",
       "    <tr>\n",
       "      <th>3</th>\n",
       "      <td>brewed coffee - dark roast</td>\n",
       "      <td>venti</td>\n",
       "      <td>0</td>\n",
       "      <td>0</td>\n",
       "      <td>591</td>\n",
       "      <td>5</td>\n",
       "      <td>0.1</td>\n",
       "      <td>0.0</td>\n",
       "      <td>0.0</td>\n",
       "      <td>0</td>\n",
       "      <td>10</td>\n",
       "      <td>0</td>\n",
       "      <td>0</td>\n",
       "      <td>0</td>\n",
       "      <td>340</td>\n",
       "      <td>coffee</td>\n",
       "    </tr>\n",
       "    <tr>\n",
       "      <th>4</th>\n",
       "      <td>brewed coffee - decaf pike place roast</td>\n",
       "      <td>short</td>\n",
       "      <td>0</td>\n",
       "      <td>0</td>\n",
       "      <td>236</td>\n",
       "      <td>3</td>\n",
       "      <td>0.1</td>\n",
       "      <td>0.0</td>\n",
       "      <td>0.0</td>\n",
       "      <td>0</td>\n",
       "      <td>5</td>\n",
       "      <td>0</td>\n",
       "      <td>0</td>\n",
       "      <td>0</td>\n",
       "      <td>15</td>\n",
       "      <td>coffee</td>\n",
       "    </tr>\n",
       "    <tr>\n",
       "      <th>...</th>\n",
       "      <td>...</td>\n",
       "      <td>...</td>\n",
       "      <td>...</td>\n",
       "      <td>...</td>\n",
       "      <td>...</td>\n",
       "      <td>...</td>\n",
       "      <td>...</td>\n",
       "      <td>...</td>\n",
       "      <td>...</td>\n",
       "      <td>...</td>\n",
       "      <td>...</td>\n",
       "      <td>...</td>\n",
       "      <td>...</td>\n",
       "      <td>...</td>\n",
       "      <td>...</td>\n",
       "      <td>...</td>\n",
       "    </tr>\n",
       "    <tr>\n",
       "      <th>1142</th>\n",
       "      <td>White Hot Chocolate</td>\n",
       "      <td>venti</td>\n",
       "      <td>4</td>\n",
       "      <td>0</td>\n",
       "      <td>591</td>\n",
       "      <td>450</td>\n",
       "      <td>17.0</td>\n",
       "      <td>15.0</td>\n",
       "      <td>0.0</td>\n",
       "      <td>5</td>\n",
       "      <td>310</td>\n",
       "      <td>71</td>\n",
       "      <td>0</td>\n",
       "      <td>69</td>\n",
       "      <td>0</td>\n",
       "      <td>chocolate</td>\n",
       "    </tr>\n",
       "    <tr>\n",
       "      <th>1143</th>\n",
       "      <td>White Hot Chocolate</td>\n",
       "      <td>venti</td>\n",
       "      <td>4</td>\n",
       "      <td>1</td>\n",
       "      <td>591</td>\n",
       "      <td>520</td>\n",
       "      <td>24.0</td>\n",
       "      <td>20.0</td>\n",
       "      <td>0.2</td>\n",
       "      <td>30</td>\n",
       "      <td>320</td>\n",
       "      <td>73</td>\n",
       "      <td>0</td>\n",
       "      <td>71</td>\n",
       "      <td>0</td>\n",
       "      <td>chocolate</td>\n",
       "    </tr>\n",
       "    <tr>\n",
       "      <th>1144</th>\n",
       "      <td>Protein &amp; Fibre Powder</td>\n",
       "      <td>1 scoop</td>\n",
       "      <td>0</td>\n",
       "      <td>0</td>\n",
       "      <td>0</td>\n",
       "      <td>30</td>\n",
       "      <td>0.1</td>\n",
       "      <td>0.1</td>\n",
       "      <td>0.0</td>\n",
       "      <td>0</td>\n",
       "      <td>45</td>\n",
       "      <td>1</td>\n",
       "      <td>1</td>\n",
       "      <td>0</td>\n",
       "      <td>0</td>\n",
       "      <td>other</td>\n",
       "    </tr>\n",
       "    <tr>\n",
       "      <th>1145</th>\n",
       "      <td>Matcha Green Tea Powder</td>\n",
       "      <td>1 scoop</td>\n",
       "      <td>0</td>\n",
       "      <td>0</td>\n",
       "      <td>0</td>\n",
       "      <td>25</td>\n",
       "      <td>0.1</td>\n",
       "      <td>0.0</td>\n",
       "      <td>0.0</td>\n",
       "      <td>0</td>\n",
       "      <td>0</td>\n",
       "      <td>6</td>\n",
       "      <td>0</td>\n",
       "      <td>5</td>\n",
       "      <td>25</td>\n",
       "      <td>tea</td>\n",
       "    </tr>\n",
       "    <tr>\n",
       "      <th>1146</th>\n",
       "      <td>Espresso shot</td>\n",
       "      <td>1 shot</td>\n",
       "      <td>0</td>\n",
       "      <td>0</td>\n",
       "      <td>0</td>\n",
       "      <td>5</td>\n",
       "      <td>0.1</td>\n",
       "      <td>0.0</td>\n",
       "      <td>0.0</td>\n",
       "      <td>0</td>\n",
       "      <td>0</td>\n",
       "      <td>1</td>\n",
       "      <td>0</td>\n",
       "      <td>0</td>\n",
       "      <td>75</td>\n",
       "      <td>coffee</td>\n",
       "    </tr>\n",
       "  </tbody>\n",
       "</table>\n",
       "<p>1147 rows × 16 columns</p>\n",
       "</div>"
      ],
      "text/plain": [
       "                                product_name     size  milk  whip  \\\n",
       "0                 brewed coffee - dark roast    short     0     0   \n",
       "1                 brewed coffee - dark roast     tall     0     0   \n",
       "2                 brewed coffee - dark roast   grande     0     0   \n",
       "3                 brewed coffee - dark roast    venti     0     0   \n",
       "4     brewed coffee - decaf pike place roast    short     0     0   \n",
       "...                                      ...      ...   ...   ...   \n",
       "1142                     White Hot Chocolate    venti     4     0   \n",
       "1143                     White Hot Chocolate    venti     4     1   \n",
       "1144                  Protein & Fibre Powder  1 scoop     0     0   \n",
       "1145                 Matcha Green Tea Powder  1 scoop     0     0   \n",
       "1146                           Espresso shot   1 shot     0     0   \n",
       "\n",
       "      serv_size_m_l  calories  total_fat_g  saturated_fat_g  trans_fat_g  \\\n",
       "0               236         3          0.1              0.0          0.0   \n",
       "1               354         4          0.1              0.0          0.0   \n",
       "2               473         5          0.1              0.0          0.0   \n",
       "3               591         5          0.1              0.0          0.0   \n",
       "4               236         3          0.1              0.0          0.0   \n",
       "...             ...       ...          ...              ...          ...   \n",
       "1142            591       450         17.0             15.0          0.0   \n",
       "1143            591       520         24.0             20.0          0.2   \n",
       "1144              0        30          0.1              0.1          0.0   \n",
       "1145              0        25          0.1              0.0          0.0   \n",
       "1146              0         5          0.1              0.0          0.0   \n",
       "\n",
       "      cholesterol_mg  sodium_mg  total_carbs_g  fiber_g  sugar_g  caffeine_mg  \\\n",
       "0                  0          5              0        0        0          130   \n",
       "1                  0         10              0        0        0          193   \n",
       "2                  0         10              0        0        0          260   \n",
       "3                  0         10              0        0        0          340   \n",
       "4                  0          5              0        0        0           15   \n",
       "...              ...        ...            ...      ...      ...          ...   \n",
       "1142               5        310             71        0       69            0   \n",
       "1143              30        320             73        0       71            0   \n",
       "1144               0         45              1        1        0            0   \n",
       "1145               0          0              6        0        5           25   \n",
       "1146               0          0              1        0        0           75   \n",
       "\n",
       "       Category  \n",
       "0        coffee  \n",
       "1        coffee  \n",
       "2        coffee  \n",
       "3        coffee  \n",
       "4        coffee  \n",
       "...         ...  \n",
       "1142  chocolate  \n",
       "1143  chocolate  \n",
       "1144      other  \n",
       "1145        tea  \n",
       "1146     coffee  \n",
       "\n",
       "[1147 rows x 16 columns]"
      ]
     },
     "execution_count": 3,
     "metadata": {},
     "output_type": "execute_result"
    }
   ],
   "source": [
    "starbucks"
   ]
  },
  {
   "cell_type": "code",
   "execution_count": 4,
   "id": "015fceb8",
   "metadata": {},
   "outputs": [],
   "source": [
    "z = starbucks.Category\n",
    "product_names = starbucks.product_name\n",
    "sizes = starbucks.size\n",
    "\n",
    "# On enlève la catégories et les variables qualitatives\n",
    "starbucks.drop(columns=[\"Category\", \"product_name\", \"size\"], inplace=True)\n",
    "\n"
   ]
  },
  {
   "cell_type": "code",
   "execution_count": 5,
   "id": "313a5f05",
   "metadata": {},
   "outputs": [
    {
     "data": {
      "text/plain": [
       "Index(['milk', 'whip', 'serv_size_m_l', 'calories', 'total_fat_g',\n",
       "       'saturated_fat_g', 'trans_fat_g', 'cholesterol_mg', 'sodium_mg',\n",
       "       'total_carbs_g', 'fiber_g', 'sugar_g', 'caffeine_mg'],\n",
       "      dtype='object')"
      ]
     },
     "execution_count": 5,
     "metadata": {},
     "output_type": "execute_result"
    }
   ],
   "source": [
    "#starbucks.drop(columns=[\"milk\", \"whip\"], inplace=True)\n",
    "starbucks.columns"
   ]
  },
  {
   "cell_type": "code",
   "execution_count": 6,
   "id": "ddc94121",
   "metadata": {},
   "outputs": [
    {
     "data": {
      "text/html": [
       "<div>\n",
       "<style scoped>\n",
       "    .dataframe tbody tr th:only-of-type {\n",
       "        vertical-align: middle;\n",
       "    }\n",
       "\n",
       "    .dataframe tbody tr th {\n",
       "        vertical-align: top;\n",
       "    }\n",
       "\n",
       "    .dataframe thead th {\n",
       "        text-align: right;\n",
       "    }\n",
       "</style>\n",
       "<table border=\"1\" class=\"dataframe\">\n",
       "  <thead>\n",
       "    <tr style=\"text-align: right;\">\n",
       "      <th></th>\n",
       "      <th>nbr_neighbors</th>\n",
       "      <th>accuracy</th>\n",
       "      <th>degre_liberte</th>\n",
       "    </tr>\n",
       "  </thead>\n",
       "  <tbody>\n",
       "    <tr>\n",
       "      <th>0</th>\n",
       "      <td>1</td>\n",
       "      <td>0.930435</td>\n",
       "      <td>1032.000000</td>\n",
       "    </tr>\n",
       "    <tr>\n",
       "      <th>1</th>\n",
       "      <td>2</td>\n",
       "      <td>0.886957</td>\n",
       "      <td>516.000000</td>\n",
       "    </tr>\n",
       "    <tr>\n",
       "      <th>2</th>\n",
       "      <td>3</td>\n",
       "      <td>0.895652</td>\n",
       "      <td>344.000000</td>\n",
       "    </tr>\n",
       "    <tr>\n",
       "      <th>3</th>\n",
       "      <td>4</td>\n",
       "      <td>0.895652</td>\n",
       "      <td>258.000000</td>\n",
       "    </tr>\n",
       "    <tr>\n",
       "      <th>4</th>\n",
       "      <td>5</td>\n",
       "      <td>0.878261</td>\n",
       "      <td>206.400000</td>\n",
       "    </tr>\n",
       "    <tr>\n",
       "      <th>...</th>\n",
       "      <td>...</td>\n",
       "      <td>...</td>\n",
       "      <td>...</td>\n",
       "    </tr>\n",
       "    <tr>\n",
       "      <th>985</th>\n",
       "      <td>95</td>\n",
       "      <td>0.747826</td>\n",
       "      <td>10.863158</td>\n",
       "    </tr>\n",
       "    <tr>\n",
       "      <th>986</th>\n",
       "      <td>96</td>\n",
       "      <td>0.747826</td>\n",
       "      <td>10.750000</td>\n",
       "    </tr>\n",
       "    <tr>\n",
       "      <th>987</th>\n",
       "      <td>97</td>\n",
       "      <td>0.747826</td>\n",
       "      <td>10.639175</td>\n",
       "    </tr>\n",
       "    <tr>\n",
       "      <th>988</th>\n",
       "      <td>98</td>\n",
       "      <td>0.747826</td>\n",
       "      <td>10.530612</td>\n",
       "    </tr>\n",
       "    <tr>\n",
       "      <th>989</th>\n",
       "      <td>99</td>\n",
       "      <td>0.747826</td>\n",
       "      <td>10.424242</td>\n",
       "    </tr>\n",
       "  </tbody>\n",
       "</table>\n",
       "<p>990 rows × 3 columns</p>\n",
       "</div>"
      ],
      "text/plain": [
       "     nbr_neighbors  accuracy  degre_liberte\n",
       "0                1  0.930435    1032.000000\n",
       "1                2  0.886957     516.000000\n",
       "2                3  0.895652     344.000000\n",
       "3                4  0.895652     258.000000\n",
       "4                5  0.878261     206.400000\n",
       "..             ...       ...            ...\n",
       "985             95  0.747826      10.863158\n",
       "986             96  0.747826      10.750000\n",
       "987             97  0.747826      10.639175\n",
       "988             98  0.747826      10.530612\n",
       "989             99  0.747826      10.424242\n",
       "\n",
       "[990 rows x 3 columns]"
      ]
     },
     "execution_count": 6,
     "metadata": {},
     "output_type": "execute_result"
    }
   ],
   "source": [
    "from sklearn.neighbors import KNeighborsClassifier\n",
    "from utils.knn_validation import knn_multiple_validation\n",
    "\n",
    "# on veut trouver le nombre de voisins le plus optimisé, pour cela on utilise la validation multiple\n",
    "train_size = 0.9\n",
    "n_splits = 10\n",
    "gen = knn_multiple_validation(starbucks, z, n_splits, train_size, np.arange(1,100,1))\n",
    "\n",
    "df = pd.DataFrame(gen, columns=[\"nbr_neighbors\", \"accuracy\", \"degre_liberte\"])\n",
    "df\n",
    "\n",
    "# Cepandant la validation multiple peut avoir des bias en sur ou sous représentant des exemples"
   ]
  },
  {
   "cell_type": "code",
   "execution_count": 7,
   "id": "868c8319",
   "metadata": {},
   "outputs": [
    {
     "data": {
      "text/plain": [
       "1"
      ]
     },
     "execution_count": 7,
     "metadata": {},
     "output_type": "execute_result"
    }
   ],
   "source": [
    "Kopt = df.groupby(\"nbr_neighbors\").mean().accuracy.idxmax()\n",
    "Kopt"
   ]
  },
  {
   "cell_type": "code",
   "execution_count": 8,
   "id": "25fe3666",
   "metadata": {},
   "outputs": [
    {
     "data": {
      "text/plain": [
       "<Axes: xlabel='degre_liberte', ylabel='accuracy'>"
      ]
     },
     "execution_count": 8,
     "metadata": {},
     "output_type": "execute_result"
    },
    {
     "data": {
      "image/png": "[encoded data removed]",
      "text/plain": [
       "<Figure size 640x480 with 1 Axes>"
      ]
     },
     "metadata": {},
     "output_type": "display_data"
    }
   ],
   "source": [
    "sns.lineplot(x=\"degre_liberte\", y=\"accuracy\", err_style='bars', errorbar=\"sd\", data=df)"
   ]
  },
  {
   "cell_type": "code",
   "execution_count": 9,
   "id": "ec70ad59",
   "metadata": {},
   "outputs": [
    {
     "data": {
      "text/plain": [
       "<Axes: xlabel='nbr_neighbors', ylabel='accuracy'>"
      ]
     },
     "execution_count": 9,
     "metadata": {},
     "output_type": "execute_result"
    },
    {
     "data": {
      "image/png": "[encoded data removed]",
      "text/plain": [
       "<Figure size 640x480 with 1 Axes>"
      ]
     },
     "metadata": {},
     "output_type": "display_data"
    }
   ],
   "source": [
    "sns.lineplot(x=\"nbr_neighbors\", y=\"accuracy\", data=df)"
   ]
  },
  {
   "cell_type": "code",
   "execution_count": 10,
   "id": "3b638ac5",
   "metadata": {},
   "outputs": [
    {
     "data": {
      "text/plain": [
       "1"
      ]
     },
     "execution_count": 10,
     "metadata": {},
     "output_type": "execute_result"
    },
    {
     "data": {
      "image/png": "[encoded data removed]",
      "text/plain": [
       "<Figure size 640x480 with 1 Axes>"
      ]
     },
     "metadata": {},
     "output_type": "display_data"
    }
   ],
   "source": [
    "# Simple Validation\n",
    "from utils.knn_validation import knn_simple_validation\n",
    "from sklearn.model_selection import train_test_split\n",
    "\n",
    "X_train, X_val, y_train, y_val = train_test_split(starbucks, z, train_size=0.66)\n",
    "n_neighbors_list = np.unique(np.round(np.geomspace(1, 500,100)).astype(int))\n",
    "gen = knn_simple_validation(X_train, y_train, X_val, y_val,n_neighbors_list)\n",
    "df = pd.DataFrame(gen, columns=[\"# neighbors\", \"accuracy\", \"degrés de liberté\"])\n",
    "\n",
    "sp = sns.lineplot(x=\"# neighbors\", y=\"accuracy\", data=df)\n",
    "sp.set(xscale=\"log\")\n",
    "\n",
    "Kopt = df.groupby(\"# neighbors\").mean().accuracy.idxmax()\n",
    "Kopt"
   ]
  },
  {
   "cell_type": "code",
   "execution_count": 11,
   "id": "464d2556",
   "metadata": {},
   "outputs": [
    {
     "data": {
      "text/plain": [
       "1"
      ]
     },
     "execution_count": 11,
     "metadata": {},
     "output_type": "execute_result"
    },
    {
     "data": {
      "image/png": "[encoded data removed]",
      "text/plain": [
       "<Figure size 640x480 with 1 Axes>"
      ]
     },
     "metadata": {},
     "output_type": "display_data"
    }
   ],
   "source": [
    "# Cross Validation\n",
    "from utils.knn_cross_validation import knn_cross_validation\n",
    "n_folds = 10\n",
    "gen = knn_cross_validation(starbucks, z, n_folds, n_neighbors_list)\n",
    "df_cross = pd.DataFrame(gen, columns=[\"# neighbors\", \"accuracy\", \"degrés de liberté\"])\n",
    "sp = sns.lineplot(x=\"# neighbors\", y=\"accuracy\", data=df_cross)\n",
    "sp.set(xscale=\"log\")\n",
    "Kopt = df_cross.groupby(\"# neighbors\").mean().accuracy.idxmax()\n",
    "Kopt"
   ]
  },
  {
   "cell_type": "code",
   "execution_count": 12,
   "id": "36d917ca",
   "metadata": {},
   "outputs": [
    {
     "name": "stderr",
     "output_type": "stream",
     "text": [
      "/tmp/ipykernel_82441/1191475655.py:7: FutureWarning: \n",
      "\n",
      "The `ci` parameter is deprecated. Use `errorbar='sd'` for the same effect.\n",
      "\n",
      "  sp = sns.lineplot(x=\"# neighbors\", y=\"accuracy\", err_style=\"bars\", ci=\"sd\", data=df)\n"
     ]
    },
    {
     "data": {
      "text/plain": [
       "1"
      ]
     },
     "execution_count": 12,
     "metadata": {},
     "output_type": "execute_result"
    },
    {
     "data": {
      "image/png": "[encoded data removed]",
      "text/plain": [
       "<Figure size 640x480 with 1 Axes>"
      ]
     },
     "metadata": {},
     "output_type": "display_data"
    }
   ],
   "source": [
    "from sklearn.model_selection import cross_val_score\n",
    "from utils.knn_cross_validation import knn_cross_validation2\n",
    "n_folds = 10\n",
    "gen = knn_cross_validation2(starbucks, z, n_folds, n_neighbors_list)\n",
    "df = pd.DataFrame(gen, columns=[\"# neighbors\", \"accuracy\", \"degrés de liberté\"])\n",
    "\n",
    "sp = sns.lineplot(x=\"# neighbors\", y=\"accuracy\", err_style=\"bars\", ci=\"sd\", data=df)\n",
    "sp.set(xscale=\"log\")\n",
    "\n",
    "Kopt = df.groupby(\"# neighbors\").mean().accuracy.idxmax()\n",
    "Kopt"
   ]
  },
  {
   "cell_type": "code",
   "execution_count": 13,
   "id": "3122b170",
   "metadata": {},
   "outputs": [
    {
     "name": "stdout",
     "output_type": "stream",
     "text": [
      "Précision: 0.9472295514511874 ou 0.9472295514511874\n",
      "Nombre de prédiction ratées: 20\n",
      "[0.60434783 0.78695652 0.83842795 0.86899563 0.58515284]\n"
     ]
    }
   ],
   "source": [
    "# On part avec k = 1\n",
    "# Sans validation croisée\n",
    "\n",
    "from sklearn import preprocessing \n",
    "X_train, X_test, z_train, z_test = train_test_split(starbucks, z, test_size=0.33, random_state=42)\n",
    "\n",
    "#cv = ShuffleSplit(n_splits=5, test_size=0.3, random_state=0)\n",
    "\n",
    "knn = KNeighborsClassifier(n_neighbors=1)\n",
    "\n",
    "scores = cross_val_score(knn, starbucks, z, cv=5)#, scoring='f1_macro')\n",
    "\n",
    "\n",
    "knn.fit(X_train, z_train)\n",
    "\n",
    "\n",
    "z_pred = knn.predict(X_test)\n",
    "\n",
    "z_comp = pd.DataFrame({\"Realite\": z_test, \"Prediction\": z_pred})\n",
    "\n",
    "\n",
    "from sklearn.metrics import accuracy_score\n",
    "print(f\"Précision: {accuracy_score(z_pred, z_test)} ou {knn.score(X_test, z_test)}\")\n",
    "\n",
    "z_failed = z_comp.loc[z_comp[\"Prediction\"] != z_comp[\"Realite\"]]\n",
    "print(f\"Nombre de prédiction ratées: {len(z_failed)}\")\n",
    "z_failed\n",
    "print(scores)"
   ]
  },
  {
   "cell_type": "code",
   "execution_count": 14,
   "id": "934a92ed",
   "metadata": {},
   "outputs": [
    {
     "name": "stdout",
     "output_type": "stream",
     "text": [
      "{'n_neighbors': 1}\n"
     ]
    },
    {
     "data": {
      "text/plain": [
       "0.9472295514511874"
      ]
     },
     "execution_count": 14,
     "metadata": {},
     "output_type": "execute_result"
    }
   ],
   "source": [
    "# Avec validation croisée : même résultat\n",
    "\n",
    "from sklearn.model_selection import GridSearchCV\n",
    "\n",
    "# De 1 à 500 voisins (exclu), échelle logarithmique\n",
    "n_neighbors_list = np.unique(np.round(np.geomspace(1, 500,100)).astype(int))\n",
    "param_grid = {\"n_neighbors\": n_neighbors_list}\n",
    "\n",
    "cls = KNeighborsClassifier()\n",
    "search = GridSearchCV(cls, param_grid, scoring=\"accuracy\", cv=10)\n",
    "search.fit(X_train, z_train)\n",
    "print(search.best_params_)\n",
    "\n",
    "z_pred = search.predict(X_test)\n",
    "accuracy_score(z_pred, z_test)"
   ]
  },
  {
   "cell_type": "code",
   "execution_count": 15,
   "id": "e606349c",
   "metadata": {},
   "outputs": [],
   "source": [
    "# faire boxplot en fonction d'accuracy et model avec validation croisée"
   ]
  },
  {
   "cell_type": "code",
   "execution_count": 16,
   "id": "6db8681c",
   "metadata": {},
   "outputs": [],
   "source": [
    "# on refait validation croisée sans la catégorie other\n",
    "\n",
    "starbucks_noothers = pd.read_csv(\"clean_starbucks.csv\")\n",
    "starbucks_noothers.drop(starbucks_noothers[starbucks_noothers.Category == \"other\"].index,axis=0, inplace=True)\n",
    "starbucks_noothers.reset_index(inplace=True)\n",
    "\n",
    "y = starbucks_noothers.Category\n",
    "\n",
    "# On enlève la catégories et les variables qualitatives\n",
    "starbucks_noothers.drop(columns=[\"Category\", \"product_name\", \"size\"], inplace=True)\n",
    "\n"
   ]
  },
  {
   "cell_type": "code",
   "execution_count": 17,
   "id": "bfc2b2b3",
   "metadata": {},
   "outputs": [
    {
     "name": "stdout",
     "output_type": "stream",
     "text": [
      "précision:0.9945652173913043\n"
     ]
    },
    {
     "data": {
      "text/html": [
       "<div>\n",
       "<style scoped>\n",
       "    .dataframe tbody tr th:only-of-type {\n",
       "        vertical-align: middle;\n",
       "    }\n",
       "\n",
       "    .dataframe tbody tr th {\n",
       "        vertical-align: top;\n",
       "    }\n",
       "\n",
       "    .dataframe thead th {\n",
       "        text-align: right;\n",
       "    }\n",
       "</style>\n",
       "<table border=\"1\" class=\"dataframe\">\n",
       "  <thead>\n",
       "    <tr style=\"text-align: right;\">\n",
       "      <th></th>\n",
       "      <th>Reel</th>\n",
       "      <th>Pred</th>\n",
       "    </tr>\n",
       "  </thead>\n",
       "  <tbody>\n",
       "    <tr>\n",
       "      <th>1111</th>\n",
       "      <td>tea</td>\n",
       "      <td>coffee</td>\n",
       "    </tr>\n",
       "    <tr>\n",
       "      <th>843</th>\n",
       "      <td>frappuccino</td>\n",
       "      <td>coffee</td>\n",
       "    </tr>\n",
       "  </tbody>\n",
       "</table>\n",
       "</div>"
      ],
      "text/plain": [
       "             Reel    Pred\n",
       "1111          tea  coffee\n",
       "843   frappuccino  coffee"
      ]
     },
     "execution_count": 17,
     "metadata": {},
     "output_type": "execute_result"
    }
   ],
   "source": [
    "X_train, X_test, y_train, y_test = train_test_split(starbucks_noothers, y, test_size=0.33, random_state=40)\n",
    "\n",
    "search = GridSearchCV(cls, param_grid, scoring='accuracy', cv=10)\n",
    "search.fit(X_train, y_train)\n",
    "\n",
    "y_pred = search.predict(X_test)\n",
    "print(f'précision:{accuracy_score(y_pred, y_test)}')\n",
    "\n",
    "y_comp = pd.DataFrame({\"Reel\": y_test, \"Pred\": y_pred})\n",
    "y_comp.loc[y_comp.Pred != y_comp.Reel]"
   ]
  },
  {
   "cell_type": "code",
   "execution_count": 18,
   "id": "26f143c4",
   "metadata": {},
   "outputs": [
    {
     "name": "stdout",
     "output_type": "stream",
     "text": [
      "['tea' 'frappuccino' 'coffee' 'chocolate']\n"
     ]
    },
    {
     "data": {
      "text/html": [
       "<div>\n",
       "<style scoped>\n",
       "    .dataframe tbody tr th:only-of-type {\n",
       "        vertical-align: middle;\n",
       "    }\n",
       "\n",
       "    .dataframe tbody tr th {\n",
       "        vertical-align: top;\n",
       "    }\n",
       "\n",
       "    .dataframe thead th {\n",
       "        text-align: right;\n",
       "    }\n",
       "</style>\n",
       "<table border=\"1\" class=\"dataframe\">\n",
       "  <thead>\n",
       "    <tr style=\"text-align: right;\">\n",
       "      <th></th>\n",
       "      <th>coffee</th>\n",
       "      <th>frappuccino</th>\n",
       "      <th>tea</th>\n",
       "      <th>chocolate</th>\n",
       "    </tr>\n",
       "  </thead>\n",
       "  <tbody>\n",
       "    <tr>\n",
       "      <th>Count</th>\n",
       "      <td>166</td>\n",
       "      <td>95</td>\n",
       "      <td>77</td>\n",
       "      <td>30</td>\n",
       "    </tr>\n",
       "  </tbody>\n",
       "</table>\n",
       "</div>"
      ],
      "text/plain": [
       "       coffee  frappuccino  tea  chocolate\n",
       "Count     166           95   77         30"
      ]
     },
     "execution_count": 18,
     "metadata": {},
     "output_type": "execute_result"
    }
   ],
   "source": [
    "print(y_comp.Reel.unique())\n",
    "nbr_cats = y_test.value_counts().to_frame(name=\"Count\").transpose()\n",
    "nbr_cats"
   ]
  },
  {
   "cell_type": "code",
   "execution_count": 24,
   "id": "dac801a6",
   "metadata": {},
   "outputs": [
    {
     "name": "stdout",
     "output_type": "stream",
     "text": [
      "Pred         chocolate  coffee  frappuccino  tea\n",
      "Reel                                            \n",
      "chocolate           30       0            0    0\n",
      "coffee               0     166            0    0\n",
      "frappuccino          0       1           94    0\n",
      "tea                  0       1            0   76\n"
     ]
    },
    {
     "data": {
      "text/html": [
       "<div>\n",
       "<style scoped>\n",
       "    .dataframe tbody tr th:only-of-type {\n",
       "        vertical-align: middle;\n",
       "    }\n",
       "\n",
       "    .dataframe tbody tr th {\n",
       "        vertical-align: top;\n",
       "    }\n",
       "\n",
       "    .dataframe thead th {\n",
       "        text-align: right;\n",
       "    }\n",
       "</style>\n",
       "<table border=\"1\" class=\"dataframe\">\n",
       "  <thead>\n",
       "    <tr style=\"text-align: right;\">\n",
       "      <th>Prediction</th>\n",
       "      <th>chocolate</th>\n",
       "      <th>coffee</th>\n",
       "      <th>frappuccino</th>\n",
       "      <th>tea</th>\n",
       "    </tr>\n",
       "    <tr>\n",
       "      <th>Realité</th>\n",
       "      <th></th>\n",
       "      <th></th>\n",
       "      <th></th>\n",
       "      <th></th>\n",
       "    </tr>\n",
       "  </thead>\n",
       "  <tbody>\n",
       "    <tr>\n",
       "      <th>chocolate</th>\n",
       "      <td>100.0</td>\n",
       "      <td>0.000</td>\n",
       "      <td>0.000</td>\n",
       "      <td>0.000</td>\n",
       "    </tr>\n",
       "    <tr>\n",
       "      <th>coffee</th>\n",
       "      <td>0.0</td>\n",
       "      <td>100.000</td>\n",
       "      <td>0.000</td>\n",
       "      <td>0.000</td>\n",
       "    </tr>\n",
       "    <tr>\n",
       "      <th>frappuccino</th>\n",
       "      <td>0.0</td>\n",
       "      <td>1.053</td>\n",
       "      <td>98.947</td>\n",
       "      <td>0.000</td>\n",
       "    </tr>\n",
       "    <tr>\n",
       "      <th>tea</th>\n",
       "      <td>0.0</td>\n",
       "      <td>1.299</td>\n",
       "      <td>0.000</td>\n",
       "      <td>98.701</td>\n",
       "    </tr>\n",
       "  </tbody>\n",
       "</table>\n",
       "</div>"
      ],
      "text/plain": [
       "Prediction   chocolate   coffee  frappuccino     tea\n",
       "Realité                                             \n",
       "chocolate        100.0    0.000        0.000   0.000\n",
       "coffee             0.0  100.000        0.000   0.000\n",
       "frappuccino        0.0    1.053       98.947   0.000\n",
       "tea                0.0    1.299        0.000  98.701"
      ]
     },
     "execution_count": 24,
     "metadata": {},
     "output_type": "execute_result"
    }
   ],
   "source": [
    "mat_comp = y_comp.groupby(['Reel','Pred']).size().unstack().fillna(0).astype(int)\n",
    "print(mat_comp)\n",
    "\n",
    "mat_comp.iloc[0] / nbr_cats.iloc[0]\n",
    "\n",
    "mat_comp_per = mat_comp.apply(lambda row: (row / nbr_cats.iloc[0]) * 100)\n",
    "mat_comp_per.index.name = \"Realité\"\n",
    "mat_comp_per.columns.name = \"Prediction\"\n",
    "mat_comp_per.applymap(lambda x: round(x,3))"
   ]
  },
  {
   "cell_type": "code",
   "execution_count": 25,
   "id": "169220bc",
   "metadata": {},
   "outputs": [
    {
     "data": {
      "text/plain": [
       "<Axes: xlabel='Prediction', ylabel='Realité'>"
      ]
     },
     "execution_count": 25,
     "metadata": {},
     "output_type": "execute_result"
    },
    {
     "data": {
      "image/png": "[encoded data removed]",
      "text/plain": [
       "<Figure size 640x480 with 2 Axes>"
      ]
     },
     "metadata": {},
     "output_type": "display_data"
    }
   ],
   "source": [
    "sns.heatmap(mat_comp_per)"
   ]
  },
  {
   "cell_type": "code",
   "execution_count": 26,
   "id": "227824ff",
   "metadata": {},
   "outputs": [
    {
     "name": "stdout",
     "output_type": "stream",
     "text": [
      "       coffee  frappuccino  tea  chocolate  other\n",
      "Count     171           99   70         28     11\n",
      "Prediction   chocolate  coffee  frappuccino  other  tea\n",
      "Realite                                                \n",
      "chocolate           26       0            1      0    1\n",
      "coffee               0     165            5      0    1\n",
      "frappuccino          0       1           98      0    0\n",
      "other                1       0            1      9    0\n",
      "tea                  0       2            0      7   61\n"
     ]
    },
    {
     "data": {
      "text/html": [
       "<div>\n",
       "<style scoped>\n",
       "    .dataframe tbody tr th:only-of-type {\n",
       "        vertical-align: middle;\n",
       "    }\n",
       "\n",
       "    .dataframe tbody tr th {\n",
       "        vertical-align: top;\n",
       "    }\n",
       "\n",
       "    .dataframe thead th {\n",
       "        text-align: right;\n",
       "    }\n",
       "</style>\n",
       "<table border=\"1\" class=\"dataframe\">\n",
       "  <thead>\n",
       "    <tr style=\"text-align: right;\">\n",
       "      <th>Prediction</th>\n",
       "      <th>chocolate</th>\n",
       "      <th>coffee</th>\n",
       "      <th>frappuccino</th>\n",
       "      <th>other</th>\n",
       "      <th>tea</th>\n",
       "    </tr>\n",
       "    <tr>\n",
       "      <th>Realite</th>\n",
       "      <th></th>\n",
       "      <th></th>\n",
       "      <th></th>\n",
       "      <th></th>\n",
       "      <th></th>\n",
       "    </tr>\n",
       "  </thead>\n",
       "  <tbody>\n",
       "    <tr>\n",
       "      <th>chocolate</th>\n",
       "      <td>92.9</td>\n",
       "      <td>0.0</td>\n",
       "      <td>3.6</td>\n",
       "      <td>0.0</td>\n",
       "      <td>3.6</td>\n",
       "    </tr>\n",
       "    <tr>\n",
       "      <th>coffee</th>\n",
       "      <td>0.0</td>\n",
       "      <td>96.5</td>\n",
       "      <td>2.9</td>\n",
       "      <td>0.0</td>\n",
       "      <td>0.6</td>\n",
       "    </tr>\n",
       "    <tr>\n",
       "      <th>frappuccino</th>\n",
       "      <td>0.0</td>\n",
       "      <td>1.0</td>\n",
       "      <td>99.0</td>\n",
       "      <td>0.0</td>\n",
       "      <td>0.0</td>\n",
       "    </tr>\n",
       "    <tr>\n",
       "      <th>other</th>\n",
       "      <td>9.1</td>\n",
       "      <td>0.0</td>\n",
       "      <td>9.1</td>\n",
       "      <td>81.8</td>\n",
       "      <td>0.0</td>\n",
       "    </tr>\n",
       "    <tr>\n",
       "      <th>tea</th>\n",
       "      <td>0.0</td>\n",
       "      <td>2.9</td>\n",
       "      <td>0.0</td>\n",
       "      <td>10.0</td>\n",
       "      <td>87.1</td>\n",
       "    </tr>\n",
       "  </tbody>\n",
       "</table>\n",
       "</div>"
      ],
      "text/plain": [
       "Prediction   chocolate  coffee  frappuccino  other   tea\n",
       "Realite                                                 \n",
       "chocolate         92.9     0.0          3.6    0.0   3.6\n",
       "coffee             0.0    96.5          2.9    0.0   0.6\n",
       "frappuccino        0.0     1.0         99.0    0.0   0.0\n",
       "other              9.1     0.0          9.1   81.8   0.0\n",
       "tea                0.0     2.9          0.0   10.0  87.1"
      ]
     },
     "execution_count": 26,
     "metadata": {},
     "output_type": "execute_result"
    }
   ],
   "source": [
    "# Heatmap avec others\n",
    "\n",
    "nbr_cats2 = z_test.value_counts().to_frame(name=\"Count\").transpose()\n",
    "print(nbr_cats2)\n",
    "mat_comp2 = z_comp.groupby([\"Realite\", \"Prediction\"]).size().unstack().fillna(0).astype(int)\n",
    "print(mat_comp2)\n",
    "\n",
    "\n",
    "mat_comp_per2 = mat_comp2.apply(lambda row: (row / nbr_cats2.iloc[0]) * 100)\n",
    "mat_comp_per2.index.name = \"Realite\"\n",
    "mat_comp_per2.columns.name = \"Prediction\"\n",
    "mat_comp_per2.applymap(lambda x: round(x,1))"
   ]
  },
  {
   "cell_type": "code",
   "execution_count": 27,
   "id": "f377f156",
   "metadata": {},
   "outputs": [
    {
     "data": {
      "text/plain": [
       "<Axes: xlabel='Prediction', ylabel='Realite'>"
      ]
     },
     "execution_count": 27,
     "metadata": {},
     "output_type": "execute_result"
    },
    {
     "data": {
      "image/png": "[encoded data removed]",
      "text/plain": [
       "<Figure size 640x480 with 2 Axes>"
      ]
     },
     "metadata": {},
     "output_type": "display_data"
    }
   ],
   "source": [
    "# Heatmap avec others\n",
    "\n",
    "sns.heatmap(mat_comp_per2)"
   ]
  }
 ],
 "metadata": {
  "kernelspec": {
   "display_name": "Python 3 (ipykernel)",
   "language": "python",
   "name": "python3"
  },
  "language_info": {
   "codemirror_mode": {
    "name": "ipython",
    "version": 3
   },
   "file_extension": ".py",
   "mimetype": "text/x-python",
   "name": "python",
   "nbconvert_exporter": "python",
   "pygments_lexer": "ipython3",
   "version": "3.10.10"
  }
 },
 "nbformat": 4,
 "nbformat_minor": 5
}
