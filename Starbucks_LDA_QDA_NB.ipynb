{
 "cells": [
  {
   "cell_type": "markdown",
   "id": "5ad22496",
   "metadata": {},
   "source": [
    "# Starbucks : LDA, QDA, NB\n",
    "## Configuration"
   ]
  },
  {
   "cell_type": "code",
   "execution_count": 24,
   "id": "650b9ddb",
   "metadata": {},
   "outputs": [],
   "source": [
    "import numpy as np\n",
    "import pandas as pd\n",
    "import seaborn as sns\n",
    "import matplotlib.pyplot as plt\n",
    "from sklearn.model_selection import cross_val_score, train_test_split\n",
    "from sklearn.discriminant_analysis import LinearDiscriminantAnalysis\n",
    "from sklearn.discriminant_analysis import QuadraticDiscriminantAnalysis\n",
    "from sklearn.naive_bayes import GaussianNB\n",
    "from sklearn.metrics import accuracy_score"
   ]
  },
  {
   "cell_type": "markdown",
   "id": "35b3ca5f",
   "metadata": {},
   "source": [
    "## Import des données"
   ]
  },
  {
   "cell_type": "code",
   "execution_count": 14,
   "id": "0804209f",
   "metadata": {},
   "outputs": [],
   "source": [
    "starbucks = pd.read_csv(\"D:/UTC/SY09/Projet/tests locaux/clean_starbucks.csv\")\n",
    "starbucksX = starbucks.drop(columns=[\"product_name\", \"milk\", \"size\", \"whip\", \"serv_size_m_l\", \"Category\"])\n",
    "starbucksZ = starbucks.Category"
   ]
  },
  {
   "cell_type": "markdown",
   "id": "d748a0be",
   "metadata": {},
   "source": [
    "## Calculs d'erreurs par validation croisée"
   ]
  },
  {
   "cell_type": "code",
   "execution_count": 15,
   "id": "c209947d",
   "metadata": {},
   "outputs": [],
   "source": [
    "plis = 10\n",
    "\n",
    "models = [\n",
    "    (LinearDiscriminantAnalysis, \"LDA\"),\n",
    "    (QuadraticDiscriminantAnalysis, \"QDA\"),\n",
    "    (GaussianNB, \"NB\"),\n",
    "]\n",
    "\n",
    "LDA = LinearDiscriminantAnalysis()\n",
    "QDA = QuadraticDiscriminantAnalysis()\n",
    "GNB = GaussianNB()\n",
    "\n",
    "def validation_errors(X, Z, models):\n",
    "    for model, name in models:\n",
    "        for acc in cross_val_score(model(), X, Z, cv=10):\n",
    "            yield name, acc"
   ]
  },
  {
   "cell_type": "markdown",
   "id": "8b8b2fb3",
   "metadata": {},
   "source": [
    "## Sélection d'un modèle à partir de plusieurs *seeds*"
   ]
  },
  {
   "cell_type": "code",
   "execution_count": 91,
   "id": "a2416a3b",
   "metadata": {},
   "outputs": [],
   "source": [
    "def choose_LDA_model(X, Z, seeds):\n",
    "    for i in seeds:\n",
    "        X_train, X_test, z_train, z_test = train_test_split(X, Z, test_size=0.33, random_state=i)\n",
    "    \n",
    "        lda = LinearDiscriminantAnalysis()\n",
    "        lda.fit(X_train, z_train)\n",
    "\n",
    "        z_pred = lda.predict(X_test)\n",
    "\n",
    "        z_comp = pd.DataFrame({\"Prediction\": z_pred, \"Realite\": z_test})\n",
    "\n",
    "        z_failed = z_comp.loc[z_comp[\"Prediction\"] != z_comp[\"Realite\"]]\n",
    "        \n",
    "        yield i, accuracy_score(z_pred, z_test), len(z_failed)\n",
    "        \n",
    "def choose_QDA_model(X, Z, seeds):\n",
    "    for i in seeds:\n",
    "        X_train, X_test, z_train, z_test = train_test_split(X, Z, test_size=0.33, random_state=i)\n",
    "    \n",
    "        qda = QuadraticDiscriminantAnalysis()\n",
    "        qda.fit(X_train, z_train)\n",
    "\n",
    "        z_pred = lda.predict(X_test)\n",
    "\n",
    "        z_comp = pd.DataFrame({\"Prediction\": z_pred, \"Realite\": z_test})\n",
    "\n",
    "        z_failed = z_comp.loc[z_comp[\"Prediction\"] != z_comp[\"Realite\"]]\n",
    "        \n",
    "        yield i, accuracy_score(z_pred, z_test), len(z_failed)"
   ]
  },
  {
   "cell_type": "markdown",
   "id": "00fa52ec",
   "metadata": {},
   "source": [
    "## Matrice de confusion"
   ]
  },
  {
   "cell_type": "code",
   "execution_count": 89,
   "id": "13876fbf",
   "metadata": {},
   "outputs": [],
   "source": [
    "def confusion_matrix(z_pred, z_test):\n",
    "    z_comp = pd.DataFrame({\"Prediction\": z_pred, \"Realite\": z_test})\n",
    "    res = {}\n",
    "    \n",
    "    for i in z_test.unique() : # attendu\n",
    "        values = []\n",
    "        for j in z_test.unique(): # predit\n",
    "            values.append(100 * len(z_comp[ (z_comp[\"Realite\"]==i) & (z_comp[\"Prediction\"]==j)]) / len(z_comp[z_comp[\"Realite\"]==i]))\n",
    "        res[i] = values\n",
    "        \n",
    "    conf = pd.DataFrame(res)\n",
    "    indexes = []\n",
    "    for i in conf.columns:\n",
    "        indexes.append(i + \"_pred\")\n",
    "    conf.index = indexes\n",
    "    return conf"
   ]
  },
  {
   "cell_type": "markdown",
   "id": "d405f512",
   "metadata": {},
   "source": [
    "## Essai sur toutes les catégories\n",
    "### Validation croisée"
   ]
  },
  {
   "cell_type": "code",
   "execution_count": 105,
   "id": "2c568614",
   "metadata": {},
   "outputs": [
    {
     "data": {
      "image/png": "[encoded data removed]",
      "text/plain": [
       "<Figure size 640x480 with 1 Axes>"
      ]
     },
     "metadata": {},
     "output_type": "display_data"
    }
   ],
   "source": [
    "cv_err_X1 = pd.DataFrame(validation_errors(starbucksX, starbucksZ, models), columns=[\"Model\", \"Acc\"])\n",
    "sns.lineplot(x=\"Model\", y=\"Acc\", data=cv_err_X1, errorbar=\"sd\")\n",
    "plt.show()"
   ]
  },
  {
   "cell_type": "markdown",
   "id": "c4f6e796",
   "metadata": {},
   "source": [
    "La LDA paraît intéressante, avec globalement moins d'erreurs que la QDA. Le NB semble à éviter (on sait par ailleurs que son hypothèse d'indépendance des variables est mauvaise dans notre cas).\n",
    "\n",
    "### Sélection d'un modèle LDA"
   ]
  },
  {
   "cell_type": "code",
   "execution_count": 41,
   "id": "ef7f7f58",
   "metadata": {},
   "outputs": [
    {
     "name": "stdout",
     "output_type": "stream",
     "text": [
      "L'accuracy maximale trouvée par cross_validation est :  0.956140350877193\n",
      "La meilleure seed est :  9229  d'une accuracy  0.9313984168865436  soit  26.0  erreurs d'affectation.\n"
     ]
    }
   ],
   "source": [
    "accuracy_max = cv_err_X1[cv_err_X1[\"Model\"]==\"LDA\"][\"Acc\"].max()\n",
    "\n",
    "print(\"L'accuracy maximale trouvée par cross_validation est : \", accuracy_max)\n",
    "\n",
    "seeds = pd.DataFrame(choose_LDA_model(starbucksX, starbucksZ, range(9200,9300)), columns=[\"Seed\", \"Accuracy\", \"Failed\"])\n",
    "\n",
    "seed_max = seeds.groupby(\"Seed\").mean().Accuracy.idxmax()\n",
    "\n",
    "print(\"La meilleure seed est : \", seed_max, \" d'une accuracy \", seeds[seeds[\"Seed\"]==seed_max][\"Accuracy\"].mean(), \" soit \", seeds[seeds[\"Seed\"]==seed_max][\"Failed\"].mean(), \" erreurs d'affectation.\")"
   ]
  },
  {
   "cell_type": "markdown",
   "id": "d71df727",
   "metadata": {},
   "source": [
    "On pourrait trouver mieux, mais de 0 à 10000, c'est 9229 qui a le meilleur score d'accuracy.\n",
    "On peut générer et étudier le modèle."
   ]
  },
  {
   "cell_type": "code",
   "execution_count": 90,
   "id": "00d72261",
   "metadata": {},
   "outputs": [
    {
     "data": {
      "text/html": [
       "<div>\n",
       "<style scoped>\n",
       "    .dataframe tbody tr th:only-of-type {\n",
       "        vertical-align: middle;\n",
       "    }\n",
       "\n",
       "    .dataframe tbody tr th {\n",
       "        vertical-align: top;\n",
       "    }\n",
       "\n",
       "    .dataframe thead th {\n",
       "        text-align: right;\n",
       "    }\n",
       "</style>\n",
       "<table border=\"1\" class=\"dataframe\">\n",
       "  <thead>\n",
       "    <tr style=\"text-align: right;\">\n",
       "      <th></th>\n",
       "      <th>coffee</th>\n",
       "      <th>frappuccino</th>\n",
       "      <th>tea</th>\n",
       "      <th>other</th>\n",
       "      <th>chocolate</th>\n",
       "    </tr>\n",
       "  </thead>\n",
       "  <tbody>\n",
       "    <tr>\n",
       "      <th>coffee_pred</th>\n",
       "      <td>94.444444</td>\n",
       "      <td>0.000000</td>\n",
       "      <td>8.450704</td>\n",
       "      <td>0.000000</td>\n",
       "      <td>0.0</td>\n",
       "    </tr>\n",
       "    <tr>\n",
       "      <th>frappuccino_pred</th>\n",
       "      <td>3.703704</td>\n",
       "      <td>99.074074</td>\n",
       "      <td>0.000000</td>\n",
       "      <td>7.692308</td>\n",
       "      <td>0.0</td>\n",
       "    </tr>\n",
       "    <tr>\n",
       "      <th>tea_pred</th>\n",
       "      <td>1.851852</td>\n",
       "      <td>0.000000</td>\n",
       "      <td>91.549296</td>\n",
       "      <td>30.769231</td>\n",
       "      <td>20.0</td>\n",
       "    </tr>\n",
       "    <tr>\n",
       "      <th>other_pred</th>\n",
       "      <td>0.000000</td>\n",
       "      <td>0.000000</td>\n",
       "      <td>0.000000</td>\n",
       "      <td>61.538462</td>\n",
       "      <td>0.0</td>\n",
       "    </tr>\n",
       "    <tr>\n",
       "      <th>chocolate_pred</th>\n",
       "      <td>0.000000</td>\n",
       "      <td>0.925926</td>\n",
       "      <td>0.000000</td>\n",
       "      <td>0.000000</td>\n",
       "      <td>80.0</td>\n",
       "    </tr>\n",
       "  </tbody>\n",
       "</table>\n",
       "</div>"
      ],
      "text/plain": [
       "                     coffee  frappuccino        tea      other  chocolate\n",
       "coffee_pred       94.444444     0.000000   8.450704   0.000000        0.0\n",
       "frappuccino_pred   3.703704    99.074074   0.000000   7.692308        0.0\n",
       "tea_pred           1.851852     0.000000  91.549296  30.769231       20.0\n",
       "other_pred         0.000000     0.000000   0.000000  61.538462        0.0\n",
       "chocolate_pred     0.000000     0.925926   0.000000   0.000000       80.0"
      ]
     },
     "execution_count": 90,
     "metadata": {},
     "output_type": "execute_result"
    }
   ],
   "source": [
    "X_train, X_test, z_train, z_test = train_test_split(starbucksX, starbucksZ, test_size=0.33, random_state=9229)\n",
    "    \n",
    "lda = LinearDiscriminantAnalysis()\n",
    "lda.fit(X_train, z_train)\n",
    "\n",
    "z_pred = lda.predict(X_test)\n",
    "\n",
    "conf = confusion_matrix(z_pred, z_test)\n",
    "conf"
   ]
  },
  {
   "cell_type": "markdown",
   "id": "a1d6b5d8",
   "metadata": {},
   "source": [
    "### Sélection d'un modèle QDA"
   ]
  },
  {
   "cell_type": "code",
   "execution_count": 102,
   "id": "65cbfed1",
   "metadata": {},
   "outputs": [
    {
     "name": "stdout",
     "output_type": "stream",
     "text": [
      "L'accuracy maximale trouvée par cross_validation est :  0.9912280701754386\n",
      "La meilleure seed est :  8972  d'une accuracy  0.9313984168865436  soit  26.0  erreurs d'affectation.\n"
     ]
    }
   ],
   "source": [
    "accuracy_max = cv_err_X1[cv_err_X1[\"Model\"]==\"QDA\"][\"Acc\"].max()\n",
    "\n",
    "print(\"L'accuracy maximale trouvée par cross_validation est : \", accuracy_max)\n",
    "\n",
    "seeds = pd.DataFrame(choose_QDA_model(starbucksX, starbucksZ, range(8900,9000)), columns=[\"Seed\", \"Accuracy\", \"Failed\"])\n",
    "\n",
    "seed_max = seeds.groupby(\"Seed\").mean().Accuracy.idxmax()\n",
    "\n",
    "print(\"La meilleure seed est : \", seed_max, \" d'une accuracy \", seeds[seeds[\"Seed\"]==seed_max][\"Accuracy\"].mean(), \" soit \", seeds[seeds[\"Seed\"]==seed_max][\"Failed\"].mean(), \" erreurs d'affectation.\")"
   ]
  },
  {
   "cell_type": "markdown",
   "id": "2de5009a",
   "metadata": {},
   "source": [
    "On pourrait trouver mieux, mais de 0 à 10000, c'est 8972 qui a le meilleur score d'accuracy. On peut générer et étudier le modèle."
   ]
  },
  {
   "cell_type": "code",
   "execution_count": 104,
   "id": "17694993",
   "metadata": {},
   "outputs": [
    {
     "data": {
      "text/html": [
       "<div>\n",
       "<style scoped>\n",
       "    .dataframe tbody tr th:only-of-type {\n",
       "        vertical-align: middle;\n",
       "    }\n",
       "\n",
       "    .dataframe tbody tr th {\n",
       "        vertical-align: top;\n",
       "    }\n",
       "\n",
       "    .dataframe thead th {\n",
       "        text-align: right;\n",
       "    }\n",
       "</style>\n",
       "<table border=\"1\" class=\"dataframe\">\n",
       "  <thead>\n",
       "    <tr style=\"text-align: right;\">\n",
       "      <th></th>\n",
       "      <th>frappuccino</th>\n",
       "      <th>coffee</th>\n",
       "      <th>tea</th>\n",
       "      <th>chocolate</th>\n",
       "      <th>other</th>\n",
       "    </tr>\n",
       "  </thead>\n",
       "  <tbody>\n",
       "    <tr>\n",
       "      <th>frappuccino_pred</th>\n",
       "      <td>97.413793</td>\n",
       "      <td>5.000</td>\n",
       "      <td>0.000000</td>\n",
       "      <td>0.000000</td>\n",
       "      <td>0.000000</td>\n",
       "    </tr>\n",
       "    <tr>\n",
       "      <th>coffee_pred</th>\n",
       "      <td>2.586207</td>\n",
       "      <td>85.625</td>\n",
       "      <td>9.523810</td>\n",
       "      <td>3.448276</td>\n",
       "      <td>9.090909</td>\n",
       "    </tr>\n",
       "    <tr>\n",
       "      <th>tea_pred</th>\n",
       "      <td>0.000000</td>\n",
       "      <td>9.375</td>\n",
       "      <td>88.888889</td>\n",
       "      <td>0.000000</td>\n",
       "      <td>18.181818</td>\n",
       "    </tr>\n",
       "    <tr>\n",
       "      <th>chocolate_pred</th>\n",
       "      <td>0.000000</td>\n",
       "      <td>0.000</td>\n",
       "      <td>0.000000</td>\n",
       "      <td>96.551724</td>\n",
       "      <td>0.000000</td>\n",
       "    </tr>\n",
       "    <tr>\n",
       "      <th>other_pred</th>\n",
       "      <td>0.000000</td>\n",
       "      <td>0.000</td>\n",
       "      <td>1.587302</td>\n",
       "      <td>0.000000</td>\n",
       "      <td>72.727273</td>\n",
       "    </tr>\n",
       "  </tbody>\n",
       "</table>\n",
       "</div>"
      ],
      "text/plain": [
       "                  frappuccino  coffee        tea  chocolate      other\n",
       "frappuccino_pred    97.413793   5.000   0.000000   0.000000   0.000000\n",
       "coffee_pred          2.586207  85.625   9.523810   3.448276   9.090909\n",
       "tea_pred             0.000000   9.375  88.888889   0.000000  18.181818\n",
       "chocolate_pred       0.000000   0.000   0.000000  96.551724   0.000000\n",
       "other_pred           0.000000   0.000   1.587302   0.000000  72.727273"
      ]
     },
     "execution_count": 104,
     "metadata": {},
     "output_type": "execute_result"
    }
   ],
   "source": [
    "X_train, X_test, z_train, z_test = train_test_split(starbucksX, starbucksZ, test_size=0.33, random_state=8972)\n",
    "    \n",
    "qda = QuadraticDiscriminantAnalysis()\n",
    "qda.fit(X_train, z_train)\n",
    "\n",
    "z_pred = qda.predict(X_test)\n",
    "\n",
    "conf = confusion_matrix(z_pred, z_test)\n",
    "conf"
   ]
  },
  {
   "cell_type": "markdown",
   "id": "eb1ca910",
   "metadata": {},
   "source": [
    "## Essai en enlevant la catégorie *other*"
   ]
  },
  {
   "cell_type": "code",
   "execution_count": 106,
   "id": "24599949",
   "metadata": {},
   "outputs": [
    {
     "data": {
      "image/png": "[encoded data removed]",
      "text/plain": [
       "<Figure size 640x480 with 1 Axes>"
      ]
     },
     "metadata": {},
     "output_type": "display_data"
    }
   ],
   "source": [
    "starbucks2 = starbucks[~starbucks[\"Category\"].isin([\"other\"])]\n",
    "starbucksX2 = starbucks.drop(columns=[\"product_name\", \"milk\", \"size\", \"whip\", \"serv_size_m_l\", \"Category\"])\n",
    "starbucksZ2 = starbucks.Category\n",
    "\n",
    "cv_err_X2 = pd.DataFrame(validation_errors(starbucksX2, starbucksZ2, models), columns=[\"Model\", \"Acc\"])\n",
    "sns.lineplot(x=\"Model\", y=\"Acc\", data=cv_err_X2, errorbar=\"sd\")\n",
    "plt.show()"
   ]
  },
  {
   "cell_type": "markdown",
   "id": "0bfbe5ef",
   "metadata": {},
   "source": [
    "On a sensiblement la même chose"
   ]
  },
  {
   "cell_type": "code",
   "execution_count": null,
   "id": "d0035af7",
   "metadata": {},
   "outputs": [],
   "source": []
  }
 ],
 "metadata": {
  "kernelspec": {
   "display_name": "Python 3 (ipykernel)",
   "language": "python",
   "name": "python3"
  },
  "language_info": {
   "codemirror_mode": {
    "name": "ipython",
    "version": 3
   },
   "file_extension": ".py",
   "mimetype": "text/x-python",
   "name": "python",
   "nbconvert_exporter": "python",
   "pygments_lexer": "ipython3",
   "version": "3.10.4"
  }
 },
 "nbformat": 4,
 "nbformat_minor": 5
}
